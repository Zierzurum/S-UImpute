{
  "cells": [
    {
      "cell_type": "code",
      "execution_count": null,
      "metadata": {
        "colab": {
          "base_uri": "https://localhost:8080/"
        },
        "id": "MefjN4Be-Z8a",
        "outputId": "62616d59-3a17-41e2-b1ec-1e3a5d8b8462"
      },
      "outputs": [
        {
          "output_type": "stream",
          "name": "stdout",
          "text": [
            "Collecting pykalman\n",
            "  Downloading pykalman-0.10.1-py2.py3-none-any.whl.metadata (9.5 kB)\n",
            "Requirement already satisfied: numpy<3 in /usr/local/lib/python3.11/dist-packages (from pykalman) (2.0.2)\n",
            "Requirement already satisfied: packaging in /usr/local/lib/python3.11/dist-packages (from pykalman) (24.2)\n",
            "Collecting scikit-base<0.13.0 (from pykalman)\n",
            "  Downloading scikit_base-0.12.3-py3-none-any.whl.metadata (8.8 kB)\n",
            "Requirement already satisfied: scipy<2.0.0 in /usr/local/lib/python3.11/dist-packages (from pykalman) (1.15.3)\n",
            "Downloading pykalman-0.10.1-py2.py3-none-any.whl (248 kB)\n",
            "\u001b[2K   \u001b[90m━━━━━━━━━━━━━━━━━━━━━━━━━━━━━━━━━━━━━━━━\u001b[0m \u001b[32m248.5/248.5 kB\u001b[0m \u001b[31m5.2 MB/s\u001b[0m eta \u001b[36m0:00:00\u001b[0m\n",
            "\u001b[?25hDownloading scikit_base-0.12.3-py3-none-any.whl (145 kB)\n",
            "\u001b[2K   \u001b[90m━━━━━━━━━━━━━━━━━━━━━━━━━━━━━━━━━━━━━━━━\u001b[0m \u001b[32m145.5/145.5 kB\u001b[0m \u001b[31m10.8 MB/s\u001b[0m eta \u001b[36m0:00:00\u001b[0m\n",
            "\u001b[?25hInstalling collected packages: scikit-base, pykalman\n",
            "Successfully installed pykalman-0.10.1 scikit-base-0.12.3\n"
          ]
        }
      ],
      "source": [
        "!python -m pip install pykalman"
      ]
    },
    {
      "cell_type": "code",
      "execution_count": null,
      "metadata": {
        "id": "d0SKkxLQsmAn"
      },
      "outputs": [],
      "source": [
        "import pandas as pd\n",
        "import numpy as np\n",
        "import matplotlib.pyplot as plt\n",
        "from statsmodels.tsa.arima.model import ARIMA\n",
        "from sklearn.metrics import mean_absolute_error\n",
        "from statsmodels.graphics.tsaplots import plot_acf\n",
        "import matplotlib.pyplot as plt\n",
        "from statsmodels.tsa.seasonal import seasonal_decompose\n",
        "from pykalman import KalmanFilter\n",
        "from sklearn.impute import KNNImputer\n",
        "import time as time\n",
        "import itertools\n",
        "from statsmodels.tsa.arima.model import ARIMA\n",
        "from sklearn.metrics import mean_squared_error\n",
        "from sklearn.metrics import mean_squared_error, mean_absolute_error, mean_absolute_percentage_error\n",
        "import itertools\n"
      ]
    },
    {
      "cell_type": "code",
      "execution_count": null,
      "metadata": {
        "colab": {
          "base_uri": "https://localhost:8080/"
        },
        "id": "2b0F8jT9tkH3",
        "outputId": "30acee88-a7c2-4ae8-9230-dd1ca0129bc4"
      },
      "outputs": [
        {
          "output_type": "stream",
          "name": "stdout",
          "text": [
            "Mounted at /content/drive\n"
          ]
        }
      ],
      "source": [
        "from google.colab import drive\n",
        "drive.mount('/content/drive')\n"
      ]
    },
    {
      "cell_type": "code",
      "execution_count": null,
      "metadata": {
        "id": "UHFw3zQJUvlM"
      },
      "outputs": [],
      "source": [
        "def zero_imputation(univariate_data_train,univariate_data_test):\n",
        "    train_univariate_data_imputed = np.nan_to_num(univariate_data_train, nan=0)\n",
        "    test_univariate_data_imputed=np.nan_to_num(univariate_data_test, nan=0)\n",
        "    return train_univariate_data_imputed,test_univariate_data_imputed\n",
        "\n",
        "def mean_imputation(univariate_data_train,univariate_data_test):\n",
        "    mean_value = np.nanmean(univariate_data_train)  # NaN değerleri hariç ortalama hesapla\n",
        "    train_univariate_data_imputed = np.where(np.isnan(univariate_data_train), mean_value, univariate_data_train)\n",
        "    test_univariate_data_imputed= np.where(np.isnan(univariate_data_test), mean_value, univariate_data_test)\n",
        "    return train_univariate_data_imputed,test_univariate_data_imputed\n",
        "\n",
        "def random_imputation(univariate_data_train,univariate_data_test):\n",
        "    valid_values = univariate_data_train[~np.isnan(univariate_data_train)]  # NaN olmayan değerleri seç\n",
        "    if len(valid_values) == 0:\n",
        "        return univariate_data_train  # Eğer tüm değerler NaN ise değiştirme\n",
        "    random_values = np.random.choice(valid_values, size=np.isnan(univariate_data_train).sum())  # Rastgele değerler seç\n",
        "    train_univariate_data_imputed = np.copy(univariate_data_train)\n",
        "    train_univariate_data_imputed[np.isnan(univariate_data_train)] = random_values\n",
        "\n",
        "    test_univariate_data_imputed=np.copy(univariate_data_test)\n",
        "    valid_values_test = univariate_data_test[~np.isnan(univariate_data_test)]  # NaN olmayan değerleri seç\n",
        "    mask_test = np.isnan(test_univariate_data_imputed)\n",
        "    if len(valid_values_test) == 0:\n",
        "        return univariate_data_test  # Eğer tüm değerler NaN ise değiştirme\n",
        "    random_values_test = np.random.choice(valid_values, size=np.isnan(univariate_data_test).sum())  # trainden Rastgele değerler seç\n",
        "\n",
        "    test_univariate_data_imputed[mask_test] = np.random.choice(valid_values, size=mask_test.sum(), replace=True)\n",
        "\n",
        "    return train_univariate_data_imputed,test_univariate_data_imputed\n",
        "\n",
        "def median_imputation(univariate_data_train,univariate_data_test):\n",
        "    \"\"\"\n",
        "    NumPy array içindeki NaN (eksik) değerleri medyan (median) ile doldurur.\n",
        "    \"\"\"\n",
        "    median_value = np.nanmedian(univariate_data_train)  # NaN değerleri hariç medyan hesapla\n",
        "    train_univariate_data_imputed = np.where(np.isnan(univariate_data_train), median_value, univariate_data_train)\n",
        "     # NaN olanları medyan ile değiştir\n",
        "    test_univariate_data_imputed= np.where(np.isnan(univariate_data_test), median_value, univariate_data_test) #trainin mediani ile doldur\n",
        "    return train_univariate_data_imputed,test_univariate_data_imputed\n",
        "\n",
        "def forward_fill_imputation(univariate_data_train,univariate_data_test):\n",
        "    \"\"\"\n",
        "    NumPy array içindeki NaN (eksik) değerleri kendinden önce gelen ilk bilinen değerle doldurur.\n",
        "    Eğer ilk değerler de NaN ise, dizideki ilk bilinen değeri alıp doldurur.\n",
        "    \"\"\"\n",
        "    train_univariate_data_imputed = np.copy(univariate_data_train)\n",
        "    mask = np.isnan(train_univariate_data_imputed)\n",
        "\n",
        "    # Ardışık NaN'leri forward fill ile doldur\n",
        "    for i in range(1, len(train_univariate_data_imputed)):\n",
        "        if mask[i]:\n",
        "            train_univariate_data_imputed[i] = train_univariate_data_imputed[i - 1]  # Önceki bilinen değeri ata\n",
        "\n",
        "    # Eğer hala NaN kalan değerler varsa, bunları ilk bilinen değer ile doldur\n",
        "    first_valid_idx = np.where(~mask)[0][0] if np.any(~mask) else None\n",
        "    if first_valid_idx is not None:\n",
        "        train_univariate_data_imputed[np.isnan(train_univariate_data_imputed)] = train_univariate_data_imputed[first_valid_idx]\n",
        "\n",
        "    test_univariate_data_imputed = np.copy(univariate_data_test)\n",
        "    mask = np.isnan(test_univariate_data_imputed)\n",
        "\n",
        "    # Ardışık NaN'leri forward fill ile doldur\n",
        "    for i in range(1, len(test_univariate_data_imputed)):\n",
        "        if mask[i]:\n",
        "            test_univariate_data_imputed[i] = test_univariate_data_imputed[i - 1]  # Önceki bilinen değeri ata\n",
        "\n",
        "    # Eğer hala NaN kalan değerler varsa, bunları ilk bilinen değer ile doldur\n",
        "    first_valid_idx = np.where(~mask)[0][0] if np.any(~mask) else None\n",
        "    if first_valid_idx is not None:\n",
        "        test_univariate_data_imputed[np.isnan(test_univariate_data_imputed)] = train_univariate_data_imputed[-1] #trainin son değeri ile doldur\n",
        "\n",
        "    return train_univariate_data_imputed,test_univariate_data_imputed\n",
        "\n",
        "def backward_fill_imputation(univariate_data_train,univariate_data_test):\n",
        "    \"\"\"\n",
        "    NumPy array içindeki NaN (eksik) değerleri kendinden sonraki ilk bilinen değerle doldurur.\n",
        "    Eğer son değerler de NaN ise, dizideki son bilinen değeri alıp doldurur.\n",
        "    \"\"\"\n",
        "    train_univariate_data_imputed = np.copy(univariate_data_train)\n",
        "    mask = np.isnan(train_univariate_data_imputed)\n",
        "\n",
        "\n",
        "    # Ardışık NaN'leri backward fill ile doldur\n",
        "    for i in range(len(train_univariate_data_imputed) - 2, -1, -1):\n",
        "        if mask[i]:\n",
        "            train_univariate_data_imputed[i] = train_univariate_data_imputed[i + 1]  # Sonraki bilinen değeri ata\n",
        "\n",
        "    # Son bilinen değeri bul\n",
        "    last_valid_idx = np.where(~mask)[0][-1] if np.any(~mask) else None\n",
        "\n",
        "    # Eğer son değerler NaN ise, son bilinen değeri ile doldur\n",
        "    if last_valid_idx is not None:\n",
        "        train_univariate_data_imputed[last_valid_idx + 1:] = train_univariate_data_imputed[last_valid_idx]\n",
        "\n",
        "    test_univariate_data_imputed = np.copy(univariate_data_test)\n",
        "    mask = np.isnan(univariate_data_test)\n",
        "\n",
        "\n",
        "    # Ardışık NaN'leri backward fill ile doldur\n",
        "    for i in range(len(test_univariate_data_imputed) - 2, -1, -1):\n",
        "        if mask[i]:\n",
        "            test_univariate_data_imputed[i] = test_univariate_data_imputed[i + 1]  # Sonraki bilinen değeri ata\n",
        "\n",
        "    # Son bilinen değeri bul\n",
        "    last_valid_idx = np.where(~mask)[0][-1] if np.any(~mask) else None\n",
        "\n",
        "    # Eğer son değerler NaN ise, son bilinen değeri ile doldur\n",
        "    if last_valid_idx is not None:\n",
        "        test_univariate_data_imputed[last_valid_idx + 1:] = train_univariate_data_imputed[-1]  #trainin son değeri ile doldur\n",
        "\n",
        "    return train_univariate_data_imputed,test_univariate_data_imputed\n",
        "\n",
        "def interpolation_imputation(univariate_data_train,univariate_data_test):\n",
        "    \"\"\"\n",
        "    NumPy array içindeki NaN (eksik) değerleri doğrusal interpolasyon ile doldurur.\n",
        "    \"\"\"\n",
        "    series_data = pd.Series(univariate_data_train)\n",
        "    train_univariate_data_imputed = series_data.interpolate(method='linear', limit_direction='both').to_numpy()\n",
        "\n",
        "    combined_data = np.concatenate([train_univariate_data_imputed, univariate_data_test])  # Train + Test birleştirildi\n",
        "\n",
        "    # Birleştirilmiş seriyi oluştur ve interpolasyon uygula\n",
        "    combined_series = pd.Series(combined_data)\n",
        "    combined_imputed = combined_series.interpolate(method='linear', limit_direction='both').to_numpy()\n",
        "\n",
        "    # Sadece Test Setini Çıkar\n",
        "    test_univariate_data_imputed = combined_imputed[len(univariate_data_train):]  # Test kısmını çek\n",
        "\n",
        "    return train_univariate_data_imputed, test_univariate_data_imputed\n",
        "\n",
        "def kalman_filter_imputation(univariate_data_train, univariate_data_test):\n",
        "    \"\"\"\n",
        "    NumPy array içindeki NaN (eksik) değerleri Kalman Filtresi ile doldurur.\n",
        "    Ancak sadece eksik olan yerleri doldurur, diğer verilere dokunmaz.\n",
        "    \"\"\"\n",
        "    # Kalman filtresi başlat\n",
        "    kf = KalmanFilter(\n",
        "        initial_state_mean=0,\n",
        "        n_dim_obs=1,\n",
        "        initial_state_covariance=1,\n",
        "        transition_matrices=[1],\n",
        "        observation_matrices=[1],\n",
        "        transition_covariance=1,\n",
        "        observation_covariance=1\n",
        "    )\n",
        "\n",
        "    # 1. Aşama: train verisi için Kalman smooth uygulayalım\n",
        "    mask_train = np.isnan(univariate_data_train)\n",
        "    observations_train = np.ma.array(univariate_data_train, mask=mask_train)\n",
        "    train_smoothed, _ = kf.smooth(observations_train)\n",
        "\n",
        "    # Sadece NaN olan yerlere smoothed değerleri yerleştir\n",
        "    train_imputed = univariate_data_train.copy()\n",
        "    train_imputed[mask_train] = train_smoothed[mask_train].flatten()\n",
        "\n",
        "    # 2. Aşama: Train (doldurulmuş) + Test birleştir, test kısmını doldur\n",
        "    combined_data = np.concatenate([train_imputed, univariate_data_test])\n",
        "    mask_combined = np.isnan(combined_data)\n",
        "    observations_combined = np.ma.array(combined_data, mask=mask_combined)\n",
        "\n",
        "    # Kalman filtresiyle smooth işlemi\n",
        "    combined_smoothed, _ = kf.smooth(observations_combined)\n",
        "\n",
        "    # Test kısmını ayır\n",
        "    test_imputed = combined_smoothed[len(train_imputed):]\n",
        "\n",
        "    return train_imputed.flatten(), test_imputed.flatten()\n",
        "from sklearn.svm import SVR\n",
        "def svr_imputation_separate(train, test, n_lags=3):\n",
        "    def create_lagged_df(series):\n",
        "        df = pd.DataFrame({'y': series})\n",
        "        for i in range(1, n_lags + 1):\n",
        "            df[f'lag_{i}'] = df['y'].shift(i)\n",
        "        return df\n",
        "\n",
        "    feature_names = [f'lag_{i}' for i in range(1, n_lags + 1)]\n",
        "    train_df = create_lagged_df(pd.Series(train)).dropna()\n",
        "    X_train = train_df[feature_names].to_numpy()\n",
        "    y_train = train_df['y'].to_numpy()\n",
        "    svr = SVR().fit(X_train, y_train)\n",
        "\n",
        "    train_filled = np.copy(train)\n",
        "    for idx in np.where(np.isnan(train))[0]:\n",
        "        if idx >= n_lags and not np.isnan(train[idx - n_lags:idx]).any():\n",
        "            x_pred = train[idx - n_lags:idx][::-1].reshape(1, -1)\n",
        "            train_filled[idx] = svr.predict(x_pred)[0]\n",
        "    train_filled = pd.Series(train_filled).interpolate().bfill().ffill().to_numpy()\n",
        "\n",
        "    test_filled = np.copy(test)\n",
        "    for idx in np.where(np.isnan(test))[0]:\n",
        "        full_input = np.concatenate([train_filled[-n_lags:], test[:idx]])\n",
        "        if len(full_input) >= n_lags and not np.isnan(full_input[-n_lags:]).any():\n",
        "            x_pred = full_input[-n_lags:][::-1].reshape(1, -1)\n",
        "            test_filled[idx] = svr.predict(x_pred)[0]\n",
        "    test_filled = pd.Series(test_filled).interpolate().bfill().ffill().to_numpy()\n",
        "    return train_filled, test_filled\n"
      ]
    },
    {
      "cell_type": "code",
      "execution_count": null,
      "metadata": {
        "id": "Z0MqOLMtPpN1"
      },
      "outputs": [],
      "source": [
        "import itertools\n",
        "import time\n",
        "import numpy as np\n",
        "from statsmodels.tsa.arima.model import ARIMA\n",
        "from sklearn.metrics import mean_squared_error\n",
        "\n",
        "def find_best_arima(train_data, validation_size=0.2, p_range=(0, 3), d_range=(0, 2), q_range=(0, 3), metric=\"rmse\"):\n",
        "    \"\"\"\n",
        "    Train verisi için en iyi (p, d, q) ARIMA parametrelerini seçer.\n",
        "\n",
        "    - Eğer metric=\"rmse\" ise, validation için train_data'yı ikiye böler ve bölünen train set ile modeli eğitir, doğrulama seti üzerinde RMSE hesaplar.\n",
        "    - Eğer metric=\"aic\" ise, tüm train_data ile modeli eğitir ve AIC'yi hesaplar.\n",
        "    \"\"\"\n",
        "\n",
        "    best_score = float(\"inf\")  # En iyi RMSE veya AIC değerini saklar\n",
        "    best_params = None\n",
        "    best_model = None\n",
        "\n",
        "    # RMSE için train seti ayırma (validation kullanılır)\n",
        "    if metric == \"rmse\":\n",
        "        split_index = int(len(train_data) * (1 - validation_size))\n",
        "        train_set, val_set = train_data[:split_index], train_data[split_index:]\n",
        "    elif metric==\"aic\":\n",
        "        train_set = train_data  # AIC için tüm veri kullanılır\n",
        "        val_set = None  # AIC için validation set yok\n",
        "\n",
        "    # Grid Search için tüm (p, d, q) kombinasyonlarını oluştur\n",
        "    pdq_combinations = list(itertools.product(range(*p_range), range(*d_range), range(*q_range)))\n",
        "\n",
        "    for pdq in pdq_combinations:\n",
        "        try:\n",
        "            if metric == \"rmse\":\n",
        "                model = ARIMA(train_set, order=pdq)  # RMSE için sadece train_set ile eğit\n",
        "            else:\n",
        "                model = ARIMA(train_data, order=pdq)  # AIC için tüm train_data kullanılır\n",
        "\n",
        "            model_fit = model.fit()\n",
        "\n",
        "            # RMSE ile değerlendirme\n",
        "            if metric == \"rmse\":\n",
        "                predictions = model_fit.forecast(steps=len(val_set))\n",
        "                rmse = np.sqrt(mean_squared_error(val_set, predictions))\n",
        "                score = rmse\n",
        "                print(f\"ARIMA{pdq} - RMSE: {rmse}\")\n",
        "\n",
        "            # AIC ile değerlendirme\n",
        "            elif metric == \"aic\":\n",
        "                aic = model_fit.aic\n",
        "                score = aic\n",
        "                print(f\"ARIMA{pdq} - AIC: {aic}\")\n",
        "\n",
        "            else:\n",
        "                raise ValueError(\"metric parametresi 'rmse' veya 'aic' olmalıdır.\")\n",
        "\n",
        "            # En iyi modeli güncelle\n",
        "            if score < best_score:\n",
        "                best_score, best_params = score, pdq\n",
        "                best_model = model_fit\n",
        "\n",
        "        except Exception as e:\n",
        "            print(f\"ARIMA{pdq} başarısız: {e}\")\n",
        "            continue\n",
        "\n",
        "    return best_params\n"
      ]
    },
    {
      "cell_type": "code",
      "execution_count": null,
      "metadata": {
        "id": "XsX3qtqOYYFA"
      },
      "outputs": [],
      "source": [
        "def modified_smape(y_true, y_pred):\n",
        "    \"\"\"\n",
        "    Modified Symmetric Mean Absolute Percentage Error (sMAPE) hesaplama fonksiyonu.\n",
        "\n",
        "    Parameters:\n",
        "    y_true (array-like): Gerçek değerler.\n",
        "    y_pred (array-like): Tahmin edilen değerler.\n",
        "\n",
        "    Returns:\n",
        "    float: Modified sMAPE değeri.\n",
        "    \"\"\"\n",
        "    y_true = np.array(y_true)\n",
        "    y_pred = np.array(y_pred)\n",
        "\n",
        "    # Denominator'i hesapla ve sıfır değerleri kaldır\n",
        "    denominator = np.abs(y_true) + np.abs(y_pred)\n",
        "    non_zero_indices = denominator != 0\n",
        "\n",
        "    y_true_non_zero = y_true[non_zero_indices]\n",
        "    y_pred_non_zero = y_pred[non_zero_indices]\n",
        "    denominator_non_zero = denominator[non_zero_indices]\n",
        "\n",
        "    # Modified sMAPE hesaplama\n",
        "    smape_values = 2 * np.abs(y_true_non_zero - y_pred_non_zero) / denominator_non_zero\n",
        "\n",
        "    return np.mean(smape_values) * 100"
      ]
    },
    {
      "cell_type": "code",
      "source": [
        "import itertools\n",
        "import numpy as np\n",
        "from statsmodels.tsa.arima.model import ARIMA\n",
        "from sklearn.metrics import mean_squared_error\n",
        "\n",
        "def rolling_window_arima_grid_search(data, p_range=(0, 3), d_range=(0, 2), q_range=(0, 3),\n",
        "                                     train_size=0.8, window_size=1000):\n",
        "    \"\"\"\n",
        "    Rolling Window Cross-Validation ile en iyi RMSE değerine sahip ARIMA (p, d, q) parametrelerini bulur.\n",
        "\n",
        "    - train_size: Eğitim setinin oranı (örn: 0.8, yani %80 eğitim, %20 test)\n",
        "    - window_size: Rolling Window eğitim penceresi boyutu\n",
        "    - p_range, d_range, q_range: ARIMA için p, d, q değer aralıkları\n",
        "    \"\"\"\n",
        "\n",
        "    best_params = None\n",
        "    best_rmse = float(\"inf\")\n",
        "    window_size = max(500, min(int(len(data) * 0.1), 5000))\n",
        "\n",
        "\n",
        "    # Eğitim ve test seti oluştur\n",
        "    split_index = int(len(data) * train_size)\n",
        "    train_data, test_data = data[:split_index], data[split_index:]\n",
        "\n",
        "    # Grid Search için tüm (p, d, q) kombinasyonlarını oluştur\n",
        "    pdq_combinations = list(itertools.product(range(*p_range), range(*d_range), range(*q_range)))\n",
        "\n",
        "    # Grid Search (Tüm p, d, q kombinasyonlarını dene)\n",
        "    for pdq in pdq_combinations:\n",
        "        try:\n",
        "            predictions = []\n",
        "            actuals = []\n",
        "\n",
        "            # Rolling Window ile çapraz doğrulama\n",
        "            for i in range(len(test_data)):\n",
        "                # Eğitim penceresini güncelle (Rolling Window)\n",
        "                train_subset = train_data[max(0, len(train_data) - window_size + i) : len(train_data) + i]\n",
        "\n",
        "                # ARIMA Modelini Eğit\n",
        "                model = ARIMA(train_subset, order=pdq)\n",
        "                model_fit = model.fit()\n",
        "\n",
        "                # Bir adımlık tahmin yap\n",
        "                pred = model_fit.forecast(steps=1)[0]\n",
        "\n",
        "                predictions.append(pred)\n",
        "                actuals.append(test_data[i])\n",
        "\n",
        "            # RMSE Hesapla\n",
        "            rmse = np.sqrt(mean_squared_error(actuals, predictions))\n",
        "            print(f\"ARIMA{pdq} - Rolling RMSE: {rmse}\")\n",
        "\n",
        "            # En iyi modeli güncelle\n",
        "            if rmse < best_rmse:\n",
        "                best_rmse = rmse\n",
        "                best_params = pdq\n",
        "\n",
        "        except Exception as e:\n",
        "            print(f\"ARIMA{pdq} başarısız: {e}\")\n",
        "            continue\n",
        "\n",
        "    print(f\"\\nEn iyi parametreler: {best_params}, RMSE: {best_rmse}\")\n",
        "    return best_params\n"
      ],
      "metadata": {
        "id": "8SVOurLMM14j"
      },
      "execution_count": null,
      "outputs": []
    },
    {
      "cell_type": "code",
      "execution_count": null,
      "metadata": {
        "id": "tuZvjwpRKlj9",
        "colab": {
          "base_uri": "https://localhost:8080/"
        },
        "outputId": "e847ce44-e30a-4f89-9143-89f8c2ed1adb"
      },
      "outputs": [
        {
          "output_type": "stream",
          "name": "stdout",
          "text": [
            "8799\n",
            "<function zero_imputation at 0x79bfccaa5300>\n",
            "581\n",
            "ARIMA(0, 0, 0) - RMSE: 44.76123512024054\n",
            "ARIMA(0, 0, 1) - RMSE: 44.761188563086435\n",
            "ARIMA(0, 0, 2) - RMSE: 44.760657927221644\n",
            "ARIMA(0, 1, 0) - RMSE: 45.03829651984066\n",
            "ARIMA(0, 1, 1) - RMSE: 45.287783453039125\n",
            "ARIMA(0, 1, 2) - RMSE: 45.299859506465474\n",
            "ARIMA(1, 0, 0) - RMSE: 44.76102921560925\n",
            "ARIMA(1, 0, 1) - RMSE: 44.760787110217386\n",
            "ARIMA(1, 0, 2) - RMSE: 44.75998643994584\n",
            "ARIMA(1, 1, 0) - RMSE: 45.127490435082926\n",
            "ARIMA(1, 1, 1) - RMSE: 44.94116491982996\n",
            "ARIMA(1, 1, 2) - RMSE: 44.57907989714054\n",
            "ARIMA(2, 0, 0) - RMSE: 44.76111796450618\n",
            "ARIMA(2, 0, 1) - RMSE: 44.759927399715885\n",
            "ARIMA(2, 0, 2) - RMSE: 44.76306950038936\n",
            "ARIMA(2, 1, 0) - RMSE: 45.08782304214033\n",
            "ARIMA(2, 1, 1) - RMSE: 44.64161914888439\n"
          ]
        },
        {
          "output_type": "stream",
          "name": "stderr",
          "text": [
            "/usr/local/lib/python3.11/dist-packages/statsmodels/tsa/statespace/sarimax.py:966: UserWarning: Non-stationary starting autoregressive parameters found. Using zeros as starting parameters.\n",
            "  warn('Non-stationary starting autoregressive parameters'\n",
            "/usr/local/lib/python3.11/dist-packages/statsmodels/tsa/statespace/sarimax.py:978: UserWarning: Non-invertible starting MA parameters found. Using zeros as starting parameters.\n",
            "  warn('Non-invertible starting MA parameters found.'\n"
          ]
        },
        {
          "output_type": "stream",
          "name": "stdout",
          "text": [
            "ARIMA(2, 1, 2) - RMSE: 44.59374413214033\n",
            "<function mean_imputation at 0x79bfccaa5260>\n",
            "581\n",
            "ARIMA(0, 0, 0) - RMSE: 43.24663621196342\n",
            "ARIMA(0, 0, 1) - RMSE: 43.246322640638944\n",
            "ARIMA(0, 0, 2) - RMSE: 43.24557663945666\n",
            "ARIMA(0, 1, 0) - RMSE: 44.12865637305008\n",
            "ARIMA(0, 1, 1) - RMSE: 44.233606657388364\n",
            "ARIMA(0, 1, 2) - RMSE: 44.0360938230382\n",
            "ARIMA(1, 0, 0) - RMSE: 43.245754119091515\n",
            "ARIMA(1, 0, 1) - RMSE: 43.2441692804739\n",
            "ARIMA(1, 0, 2) - RMSE: 43.24254903833282\n",
            "ARIMA(1, 1, 0) - RMSE: 44.25678252794693\n",
            "ARIMA(1, 1, 1) - RMSE: 43.42954034237038\n",
            "ARIMA(1, 1, 2) - RMSE: 43.05925363576074\n",
            "ARIMA(2, 0, 0) - RMSE: 43.245545207961726\n",
            "ARIMA(2, 0, 1) - RMSE: 43.2402362461767\n",
            "ARIMA(2, 0, 2) - RMSE: 43.242505471746014\n",
            "ARIMA(2, 1, 0) - RMSE: 44.20100489709676\n",
            "ARIMA(2, 1, 1) - RMSE: 43.10788486103954\n"
          ]
        },
        {
          "output_type": "stream",
          "name": "stderr",
          "text": [
            "/usr/local/lib/python3.11/dist-packages/statsmodels/tsa/statespace/sarimax.py:966: UserWarning: Non-stationary starting autoregressive parameters found. Using zeros as starting parameters.\n",
            "  warn('Non-stationary starting autoregressive parameters'\n",
            "/usr/local/lib/python3.11/dist-packages/statsmodels/tsa/statespace/sarimax.py:978: UserWarning: Non-invertible starting MA parameters found. Using zeros as starting parameters.\n",
            "  warn('Non-invertible starting MA parameters found.'\n"
          ]
        },
        {
          "output_type": "stream",
          "name": "stdout",
          "text": [
            "ARIMA(2, 1, 2) - RMSE: 43.071013027770114\n",
            "<function median_imputation at 0x79c01769e480>\n",
            "581\n",
            "ARIMA(0, 0, 0) - RMSE: 43.3068954887734\n",
            "ARIMA(0, 0, 1) - RMSE: 43.306609952751316\n",
            "ARIMA(0, 0, 2) - RMSE: 43.30590865210679\n",
            "ARIMA(0, 1, 0) - RMSE: 44.09270805256909\n",
            "ARIMA(0, 1, 1) - RMSE: 44.213440077039486\n",
            "ARIMA(0, 1, 2) - RMSE: 44.059180109236934\n",
            "ARIMA(1, 0, 0) - RMSE: 43.30613683713388\n",
            "ARIMA(1, 0, 1) - RMSE: 43.30483601120142\n",
            "ARIMA(1, 0, 2) - RMSE: 43.30332054063894\n",
            "ARIMA(1, 1, 0) - RMSE: 44.21553518315591\n",
            "ARIMA(1, 1, 1) - RMSE: 43.47755286021902\n",
            "ARIMA(1, 1, 2) - RMSE: 43.11727590538391\n",
            "ARIMA(2, 0, 0) - RMSE: 43.30600185432328\n",
            "ARIMA(2, 0, 1) - RMSE: 43.30126635629113\n",
            "ARIMA(2, 0, 2) - RMSE: 43.30530691756159\n",
            "ARIMA(2, 1, 0) - RMSE: 44.16223167339123\n",
            "ARIMA(2, 1, 1) - RMSE: 43.164365426754166\n"
          ]
        },
        {
          "output_type": "stream",
          "name": "stderr",
          "text": [
            "/usr/local/lib/python3.11/dist-packages/statsmodels/tsa/statespace/sarimax.py:966: UserWarning: Non-stationary starting autoregressive parameters found. Using zeros as starting parameters.\n",
            "  warn('Non-stationary starting autoregressive parameters'\n",
            "/usr/local/lib/python3.11/dist-packages/statsmodels/tsa/statespace/sarimax.py:978: UserWarning: Non-invertible starting MA parameters found. Using zeros as starting parameters.\n",
            "  warn('Non-invertible starting MA parameters found.'\n"
          ]
        },
        {
          "output_type": "stream",
          "name": "stdout",
          "text": [
            "ARIMA(2, 1, 2) - RMSE: 43.12961128546012\n",
            "<function forward_fill_imputation at 0x79c01769efc0>\n",
            "581\n",
            "ARIMA(0, 0, 0) - RMSE: 43.476682261470096\n",
            "ARIMA(0, 0, 1) - RMSE: 43.47648858779768\n",
            "ARIMA(0, 0, 2) - RMSE: 43.47560404811748\n",
            "ARIMA(0, 1, 0) - RMSE: 44.32473946239381\n",
            "ARIMA(0, 1, 1) - RMSE: 44.45099801050169\n",
            "ARIMA(0, 1, 2) - RMSE: 44.46391878004931\n",
            "ARIMA(1, 0, 0) - RMSE: 43.4759152096473\n",
            "ARIMA(1, 0, 1) - RMSE: 43.474386803649736\n",
            "ARIMA(1, 0, 2) - RMSE: 43.47345970692508\n",
            "ARIMA(1, 1, 0) - RMSE: 44.446664914386375\n",
            "ARIMA(1, 1, 1) - RMSE: 43.90655761077568\n",
            "ARIMA(1, 1, 2) - RMSE: 43.259792085597034\n",
            "ARIMA(2, 0, 0) - RMSE: 43.475591239817206\n",
            "ARIMA(2, 0, 1) - RMSE: 43.470822064708585\n",
            "ARIMA(2, 0, 2) - RMSE: 43.470909610272585\n",
            "ARIMA(2, 1, 0) - RMSE: 44.39231969686602\n",
            "ARIMA(2, 1, 1) - RMSE: 43.36427004549935\n"
          ]
        },
        {
          "output_type": "stream",
          "name": "stderr",
          "text": [
            "/usr/local/lib/python3.11/dist-packages/statsmodels/tsa/statespace/sarimax.py:966: UserWarning: Non-stationary starting autoregressive parameters found. Using zeros as starting parameters.\n",
            "  warn('Non-stationary starting autoregressive parameters'\n",
            "/usr/local/lib/python3.11/dist-packages/statsmodels/tsa/statespace/sarimax.py:978: UserWarning: Non-invertible starting MA parameters found. Using zeros as starting parameters.\n",
            "  warn('Non-invertible starting MA parameters found.'\n"
          ]
        },
        {
          "output_type": "stream",
          "name": "stdout",
          "text": [
            "ARIMA(2, 1, 2) - RMSE: 43.26880341869835\n",
            "<function backward_fill_imputation at 0x79bfccaa5080>\n",
            "581\n",
            "ARIMA(0, 0, 0) - RMSE: 43.44121454410634\n",
            "ARIMA(0, 0, 1) - RMSE: 43.441708887367554\n",
            "ARIMA(0, 0, 2) - RMSE: 43.44000911898422\n",
            "ARIMA(0, 1, 0) - RMSE: 44.297756073889545\n",
            "ARIMA(0, 1, 1) - RMSE: 44.29954132998158\n",
            "ARIMA(0, 1, 2) - RMSE: 44.259825691531496\n",
            "ARIMA(1, 0, 0) - RMSE: 43.439977751201916\n",
            "ARIMA(1, 0, 1) - RMSE: 43.440149600691235\n",
            "ARIMA(1, 0, 2) - RMSE: 43.44011233601469\n",
            "ARIMA(1, 1, 0) - RMSE: 44.29944435084043\n"
          ]
        },
        {
          "output_type": "stream",
          "name": "stderr",
          "text": [
            "/usr/local/lib/python3.11/dist-packages/statsmodels/tsa/statespace/sarimax.py:966: UserWarning: Non-stationary starting autoregressive parameters found. Using zeros as starting parameters.\n",
            "  warn('Non-stationary starting autoregressive parameters'\n",
            "/usr/local/lib/python3.11/dist-packages/statsmodels/tsa/statespace/sarimax.py:978: UserWarning: Non-invertible starting MA parameters found. Using zeros as starting parameters.\n",
            "  warn('Non-invertible starting MA parameters found.'\n"
          ]
        },
        {
          "output_type": "stream",
          "name": "stdout",
          "text": [
            "ARIMA(1, 1, 1) - RMSE: 43.25398172297521\n",
            "ARIMA(1, 1, 2) - RMSE: 43.266015971712555\n",
            "ARIMA(2, 0, 0) - RMSE: 43.44017821617153\n",
            "ARIMA(2, 0, 1) - RMSE: 43.44010594054744\n",
            "ARIMA(2, 0, 2) - RMSE: 43.44022711647859\n",
            "ARIMA(2, 1, 0) - RMSE: 44.28752032064208\n"
          ]
        },
        {
          "output_type": "stream",
          "name": "stderr",
          "text": [
            "/usr/local/lib/python3.11/dist-packages/statsmodels/tsa/statespace/sarimax.py:966: UserWarning: Non-stationary starting autoregressive parameters found. Using zeros as starting parameters.\n",
            "  warn('Non-stationary starting autoregressive parameters'\n",
            "/usr/local/lib/python3.11/dist-packages/statsmodels/tsa/statespace/sarimax.py:978: UserWarning: Non-invertible starting MA parameters found. Using zeros as starting parameters.\n",
            "  warn('Non-invertible starting MA parameters found.'\n"
          ]
        },
        {
          "output_type": "stream",
          "name": "stdout",
          "text": [
            "ARIMA(2, 1, 1) - RMSE: 43.26865962130694\n",
            "ARIMA(2, 1, 2) - RMSE: 43.26151023709763\n",
            "<function interpolation_imputation at 0x79bfccaa51c0>\n",
            "581\n",
            "ARIMA(0, 0, 0) - RMSE: 43.414080203260895\n",
            "ARIMA(0, 0, 1) - RMSE: 43.41429920537082\n",
            "ARIMA(0, 0, 2) - RMSE: 43.412772186525046\n",
            "ARIMA(0, 1, 0) - RMSE: 44.269591463245156\n",
            "ARIMA(0, 1, 1) - RMSE: 44.28930721094971\n",
            "ARIMA(0, 1, 2) - RMSE: 44.26378800153743\n",
            "ARIMA(1, 0, 0) - RMSE: 43.41298402985953\n",
            "ARIMA(1, 0, 1) - RMSE: 43.41310247169903\n",
            "ARIMA(1, 0, 2) - RMSE: 43.41307839331101\n",
            "ARIMA(1, 1, 0) - RMSE: 44.28588436141992\n"
          ]
        },
        {
          "output_type": "stream",
          "name": "stderr",
          "text": [
            "/usr/local/lib/python3.11/dist-packages/statsmodels/tsa/statespace/sarimax.py:966: UserWarning: Non-stationary starting autoregressive parameters found. Using zeros as starting parameters.\n",
            "  warn('Non-stationary starting autoregressive parameters'\n",
            "/usr/local/lib/python3.11/dist-packages/statsmodels/tsa/statespace/sarimax.py:978: UserWarning: Non-invertible starting MA parameters found. Using zeros as starting parameters.\n",
            "  warn('Non-invertible starting MA parameters found.'\n"
          ]
        },
        {
          "output_type": "stream",
          "name": "stdout",
          "text": [
            "ARIMA(1, 1, 1) - RMSE: 43.17842287768298\n",
            "ARIMA(1, 1, 2) - RMSE: 43.17753635568674\n",
            "ARIMA(2, 0, 0) - RMSE: 43.41310564792879\n",
            "ARIMA(2, 0, 1) - RMSE: 43.413001978743374\n"
          ]
        },
        {
          "output_type": "stream",
          "name": "stderr",
          "text": [
            "/usr/local/lib/python3.11/dist-packages/statsmodels/tsa/statespace/sarimax.py:966: UserWarning: Non-stationary starting autoregressive parameters found. Using zeros as starting parameters.\n",
            "  warn('Non-stationary starting autoregressive parameters'\n",
            "/usr/local/lib/python3.11/dist-packages/statsmodels/tsa/statespace/sarimax.py:978: UserWarning: Non-invertible starting MA parameters found. Using zeros as starting parameters.\n",
            "  warn('Non-invertible starting MA parameters found.'\n"
          ]
        },
        {
          "output_type": "stream",
          "name": "stdout",
          "text": [
            "ARIMA(2, 0, 2) - RMSE: 43.41307443264018\n",
            "ARIMA(2, 1, 0) - RMSE: 44.24733377200611\n"
          ]
        },
        {
          "output_type": "stream",
          "name": "stderr",
          "text": [
            "/usr/local/lib/python3.11/dist-packages/statsmodels/tsa/statespace/sarimax.py:966: UserWarning: Non-stationary starting autoregressive parameters found. Using zeros as starting parameters.\n",
            "  warn('Non-stationary starting autoregressive parameters'\n",
            "/usr/local/lib/python3.11/dist-packages/statsmodels/tsa/statespace/sarimax.py:978: UserWarning: Non-invertible starting MA parameters found. Using zeros as starting parameters.\n",
            "  warn('Non-invertible starting MA parameters found.'\n"
          ]
        },
        {
          "output_type": "stream",
          "name": "stdout",
          "text": [
            "ARIMA(2, 1, 1) - RMSE: 43.180420853327064\n"
          ]
        },
        {
          "output_type": "stream",
          "name": "stderr",
          "text": [
            "/usr/local/lib/python3.11/dist-packages/statsmodels/tsa/statespace/sarimax.py:978: UserWarning: Non-invertible starting MA parameters found. Using zeros as starting parameters.\n",
            "  warn('Non-invertible starting MA parameters found.'\n",
            "/usr/local/lib/python3.11/dist-packages/statsmodels/base/model.py:607: ConvergenceWarning: Maximum Likelihood optimization failed to converge. Check mle_retvals\n",
            "  warnings.warn(\"Maximum Likelihood optimization failed to \"\n"
          ]
        },
        {
          "output_type": "stream",
          "name": "stdout",
          "text": [
            "ARIMA(2, 1, 2) - RMSE: 43.22059978133132\n",
            "<function svr_imputation_separate at 0x79bfccaa4f40>\n",
            "581\n",
            "ARIMA(0, 0, 0) - RMSE: 43.40255951975277\n",
            "ARIMA(0, 0, 1) - RMSE: 43.40273538038723\n",
            "ARIMA(0, 0, 2) - RMSE: 43.40126368474431\n",
            "ARIMA(0, 1, 0) - RMSE: 44.24630374753654\n",
            "ARIMA(0, 1, 1) - RMSE: 44.27689139872526\n",
            "ARIMA(0, 1, 2) - RMSE: 44.25738879994562\n",
            "ARIMA(1, 0, 0) - RMSE: 43.40155690945733\n",
            "ARIMA(1, 0, 1) - RMSE: 43.401621036741815\n",
            "ARIMA(1, 0, 2) - RMSE: 43.401602366404376\n",
            "ARIMA(1, 1, 0) - RMSE: 44.27276949823945\n"
          ]
        },
        {
          "output_type": "stream",
          "name": "stderr",
          "text": [
            "/usr/local/lib/python3.11/dist-packages/statsmodels/tsa/statespace/sarimax.py:966: UserWarning: Non-stationary starting autoregressive parameters found. Using zeros as starting parameters.\n",
            "  warn('Non-stationary starting autoregressive parameters'\n",
            "/usr/local/lib/python3.11/dist-packages/statsmodels/tsa/statespace/sarimax.py:978: UserWarning: Non-invertible starting MA parameters found. Using zeros as starting parameters.\n",
            "  warn('Non-invertible starting MA parameters found.'\n"
          ]
        },
        {
          "output_type": "stream",
          "name": "stdout",
          "text": [
            "ARIMA(1, 1, 1) - RMSE: 43.16244345429769\n",
            "ARIMA(1, 1, 2) - RMSE: 43.16061140855695\n",
            "ARIMA(2, 0, 0) - RMSE: 43.40162260309992\n",
            "ARIMA(2, 0, 1) - RMSE: 43.40150830007859\n"
          ]
        },
        {
          "output_type": "stream",
          "name": "stderr",
          "text": [
            "/usr/local/lib/python3.11/dist-packages/statsmodels/tsa/statespace/sarimax.py:966: UserWarning: Non-stationary starting autoregressive parameters found. Using zeros as starting parameters.\n",
            "  warn('Non-stationary starting autoregressive parameters'\n",
            "/usr/local/lib/python3.11/dist-packages/statsmodels/tsa/statespace/sarimax.py:978: UserWarning: Non-invertible starting MA parameters found. Using zeros as starting parameters.\n",
            "  warn('Non-invertible starting MA parameters found.'\n"
          ]
        },
        {
          "output_type": "stream",
          "name": "stdout",
          "text": [
            "ARIMA(2, 0, 2) - RMSE: 43.40119647786614\n",
            "ARIMA(2, 1, 0) - RMSE: 44.23856635345611\n"
          ]
        },
        {
          "output_type": "stream",
          "name": "stderr",
          "text": [
            "/usr/local/lib/python3.11/dist-packages/statsmodels/tsa/statespace/sarimax.py:966: UserWarning: Non-stationary starting autoregressive parameters found. Using zeros as starting parameters.\n",
            "  warn('Non-stationary starting autoregressive parameters'\n",
            "/usr/local/lib/python3.11/dist-packages/statsmodels/tsa/statespace/sarimax.py:978: UserWarning: Non-invertible starting MA parameters found. Using zeros as starting parameters.\n",
            "  warn('Non-invertible starting MA parameters found.'\n"
          ]
        },
        {
          "output_type": "stream",
          "name": "stdout",
          "text": [
            "ARIMA(2, 1, 1) - RMSE: 43.161584721352575\n"
          ]
        },
        {
          "output_type": "stream",
          "name": "stderr",
          "text": [
            "/usr/local/lib/python3.11/dist-packages/statsmodels/tsa/statespace/sarimax.py:978: UserWarning: Non-invertible starting MA parameters found. Using zeros as starting parameters.\n",
            "  warn('Non-invertible starting MA parameters found.'\n"
          ]
        },
        {
          "output_type": "stream",
          "name": "stdout",
          "text": [
            "ARIMA(2, 1, 2) - RMSE: 43.19376173032686\n",
            "<function kalman_filter_imputation at 0x79bfccaa5120>\n",
            "581\n",
            "ARIMA(0, 0, 0) - RMSE: 43.41240475550815\n",
            "ARIMA(0, 0, 1) - RMSE: 43.41235198823381\n",
            "ARIMA(0, 0, 2) - RMSE: 43.411148249219295\n",
            "ARIMA(0, 1, 0) - RMSE: 44.25310674108271\n",
            "ARIMA(0, 1, 1) - RMSE: 44.33682248019946\n",
            "ARIMA(0, 1, 2) - RMSE: 44.339104140873346\n",
            "ARIMA(1, 0, 0) - RMSE: 43.41153367356197\n",
            "ARIMA(1, 0, 1) - RMSE: 43.4111504108926\n",
            "ARIMA(1, 0, 2) - RMSE: 43.41102987580257\n",
            "ARIMA(1, 1, 0) - RMSE: 44.3369279927362\n",
            "ARIMA(1, 1, 1) - RMSE: 43.20091538677213\n",
            "ARIMA(1, 1, 2) - RMSE: 43.162660823009865\n",
            "ARIMA(2, 0, 0) - RMSE: 43.41126301459181\n",
            "ARIMA(2, 0, 1) - RMSE: 43.410081447101206\n"
          ]
        },
        {
          "output_type": "stream",
          "name": "stderr",
          "text": [
            "/usr/local/lib/python3.11/dist-packages/statsmodels/tsa/statespace/sarimax.py:966: UserWarning: Non-stationary starting autoregressive parameters found. Using zeros as starting parameters.\n",
            "  warn('Non-stationary starting autoregressive parameters'\n",
            "/usr/local/lib/python3.11/dist-packages/statsmodels/tsa/statespace/sarimax.py:978: UserWarning: Non-invertible starting MA parameters found. Using zeros as starting parameters.\n",
            "  warn('Non-invertible starting MA parameters found.'\n"
          ]
        },
        {
          "output_type": "stream",
          "name": "stdout",
          "text": [
            "ARIMA(2, 0, 2) - RMSE: 43.41111414579974\n",
            "ARIMA(2, 1, 0) - RMSE: 44.30145456757297\n",
            "ARIMA(2, 1, 1) - RMSE: 43.162471351351364\n",
            "ARIMA(2, 1, 2) - RMSE: 43.16534582846636\n"
          ]
        }
      ],
      "source": [
        "#all data\n",
        "results=[]\n",
        "results.append([\"Dataset\",\"Imputation method\",\"Imputation Time (train+test)\",\"train time\",\"Train MSE\",\"Train MAE\",\"Train RMSE\",\"Train MS_MAPE\",\"test time\",\"Test MSE\",\"Test MAE\",\"Test RMSE\",\"Test MS_MAPE\",\"best paramater ARIMA\"])\n",
        "\n",
        "\n",
        "dataset_names_eskisehir=[\"Tepebasi_missing_with_existing_25pct.xlsx\"]\n",
        "\n",
        "\n",
        "\n",
        "\n",
        "imputation_methods = [\n",
        "        zero_imputation,\n",
        "        mean_imputation,\n",
        "        median_imputation,\n",
        "        forward_fill_imputation,\n",
        "        backward_fill_imputation,\n",
        "        interpolation_imputation,\n",
        "        svr_imputation_separate,\n",
        "        kalman_filter_imputation]\n",
        "\n",
        "\n",
        "for name in dataset_names_eskisehir:\n",
        "  #dataset_df=pd.read_csv(\"/content/drive/MyDrive/akademik çalışmalar/In progress/missing data in time series/VNS_dataset/\"+name)\n",
        "  #dataset_df=pd.read_excel(\"/content/drive/MyDrive/VNS_dataset/\"+name)\n",
        "  dataset_df = pd.read_excel(\"/content/drive/MyDrive/eksik_veri_simulasyonlari/Visnepark_missing_with_existing_10pct.xlsx\")\n",
        "  dataset_df.replace(\"-\",np.nan,inplace=True)\n",
        "  #dataset1 =  dataset_df.iloc[35049:]\n",
        "  data = dataset_df.iloc[:,1].astype(float).to_numpy()\n",
        "  #data=dataset\n",
        "  # NaN olmayan değerleri filtrele\n",
        "  #data = dataset[~np.isnan(dataset)]\n",
        "  # ACF grafiğini çiz\n",
        "  #plot_acf(data, lags=100)  # İlk 100 gecikmeyi göster\n",
        "  #plt.show()\n",
        "  print(len(data))\n",
        "\n",
        "  # %80 ve %20 oranlarını belirle\n",
        "  split_index = int(len(data) * 0.8)\n",
        "\n",
        "  # Eğitim (Train) ve Test bölümleri\n",
        "  train_data = data[:split_index]  # İlk %80\n",
        "  test_data = data[split_index:]   # Son %20\n",
        "  orig_mask = ~np.isnan(test_data)\n",
        "  orig_mask_train = ~np.isnan(train_data)\n",
        "  for method  in imputation_methods:\n",
        "    start_imputation_time=time.time()\n",
        "    print(method)\n",
        "    imputed_train_full, imputed_test_full = method(np.copy(train_data),np.copy(test_data))\n",
        "    stop_imputation_time=time.time()\n",
        "\n",
        "    if np.isnan(imputed_train_full).sum()>0 or np.isnan(imputed_test_full).sum()>0:\n",
        "      print(\"there are missing values in data\")\n",
        "      break\n",
        "    print(np.isnan(train_data).sum())\n",
        "    test_data_copy = np.copy(test_data)\n",
        "    test_nan_mask = np.isnan(test_data_copy)\n",
        "    final_test_imputed = np.copy(test_data_copy)\n",
        "    final_test_imputed[test_nan_mask] = imputed_test_full[test_nan_mask]\n",
        "    imputed_test = final_test_imputed  # Bundan sonra imputed_test kullanılacak\n",
        "\n",
        "    train_data_copy = np.copy(train_data)\n",
        "    train_nan_mask = np.isnan(train_data_copy)\n",
        "    final_train_imputed = np.copy(train_data_copy)\n",
        "    final_train_imputed[train_nan_mask] = imputed_train_full[train_nan_mask]\n",
        "    imputed_train = final_train_imputed  # Bundan sonra imputed_train kullanılacak\n",
        "    best_params= find_best_arima(imputed_train)\n",
        "    # En iyi parametreleri kullanarak modeli eğit\n",
        "    best_model = ARIMA(imputed_train, order=best_params)\n",
        "    training_time_start=time.time()\n",
        "    best_model_fit=best_model.fit()\n",
        "\n",
        "    training_time_end=time.time()\n",
        "    training_time=training_time_end-training_time_start\n",
        "    test_start = time.time()\n",
        "    testPredict = best_model_fit.forecast(steps=len(imputed_test))\n",
        "    test_end = time.time()\n",
        "    trainPredict = best_model_fit.predict(start=0, end=len(imputed_train)-1)\n",
        "\n",
        "    filtered_trainY = imputed_train[orig_mask_train]\n",
        "    filtered_trainPredict = trainPredict[orig_mask_train]\n",
        "\n",
        "\n",
        "  # Maskeye göre filtreleme\n",
        "    filtered_testY = imputed_test[orig_mask]\n",
        "    filtered_testPredict = testPredict[orig_mask]\n",
        "\n",
        "\n",
        "    train_mse = mean_squared_error(filtered_trainY, filtered_trainPredict)\n",
        "    train_mae = mean_absolute_error(filtered_trainY, filtered_trainPredict)\n",
        "    train_rmse = np.sqrt(train_mse)\n",
        "    train_msmape = modified_smape(filtered_trainY, filtered_trainPredict)   # yüzde olarak ifade etmek için *100\n",
        "\n",
        "\n",
        "\n",
        "    mse = mean_squared_error(filtered_testY, filtered_testPredict)\n",
        "    mae = mean_absolute_error(filtered_testY, filtered_testPredict)\n",
        "    rmse = np.sqrt(mse)\n",
        "    msmape = modified_smape(filtered_testY, filtered_testPredict)   # yüzde olarak ifade etmek için *100\n",
        "\n",
        "\n",
        "    results.append([name,method,stop_imputation_time-start_imputation_time,training_time,train_mse,train_mae,train_rmse,train_msmape,test_end-test_start,mse,mae,rmse,msmape,best_params])\n",
        "\n",
        "pd.DataFrame(results).to_excel('YeniVisnepark10_Eskisehir_Based_Imputation_ARIMA.xlsx')\n"
      ]
    },
    {
      "cell_type": "code",
      "source": [
        "#sub data\n",
        "results=[]\n",
        "results.append([\"Dataset\",\"Imputation method\",\"Imputation Time (train+test)\",\"train time\",\"Train MSE\",\"Train MAE\",\"Train RMSE\",\"Train MS_MAPE\",\"test time\",\"Test MSE\",\"Test MAE\",\"Test RMSE\",\"Test MS_MAPE\",\"best paramater ARIMA\"])\n",
        "\n",
        "\n",
        "dataset_names_eskisehir=[\"VNS_Visnepark.xlsx_SubData_2020_2024.xlsx\"]\n",
        "\n",
        "\"VNS_Visnepark.xlsx_SubData_2020_2021.xlsx\"\n",
        "\"VNS_Visnepark.xlsx_SubData_2020_2022.xlsx\"\n",
        "\"VNS_Visnepark.xlsx_SubData_2020_2023.xlsx\"\n",
        "\"VNS_Visnepark.xlsx_SubData_2020_2024.xlsx\"\n",
        "\"VNS_Visnepark.xlsx_SubData_2020_2025.xlsx\"\n",
        "\n",
        "\n",
        "\n",
        "\n",
        "imputation_methods = [\n",
        "        zero_imputation,\n",
        "        mean_imputation,\n",
        "        median_imputation,\n",
        "        forward_fill_imputation,\n",
        "        backward_fill_imputation,\n",
        "        interpolation_imputation,\n",
        "        kalman_filter_imputation]\n",
        "\n",
        "\n",
        "\n",
        "\n",
        "#imputation_methods = [zero_imputation]\n",
        "\n",
        "\n",
        "\n",
        "for name in dataset_names_eskisehir:\n",
        "  #dataset_df=pd.read_csv(\"/content/drive/MyDrive/akademik çalışmalar/In progress/missing data in time series/VNS_dataset/\"+name)\n",
        "  dataset_df=pd.read_excel(\"/content/drive/MyDrive/VNS_dataset/\"+name)\n",
        "  dataset_df.replace(\"-\",np.nan,inplace=True)\n",
        "  dataset=dataset_df.iloc[:,1].to_numpy()\n",
        "  data=dataset\n",
        "  # NaN olmayan değerleri filtrele\n",
        "  #data = dataset[~np.isnan(dataset)]\n",
        "  # ACF grafiğini çiz\n",
        "  #plot_acf(data, lags=100)  # İlk 100 gecikmeyi göster\n",
        "  #plt.show()\n",
        "\n",
        "\n",
        "  # %80 ve %20 oranlarını belirle\n",
        "  split_index = int(len(data) * 0.8)\n",
        "\n",
        "  # Eğitim (Train) ve Test bölümleri\n",
        "  train_data = data[:split_index]  # İlk %80\n",
        "  test_data = data[split_index:]   # Son %20\n",
        "  orig_mask = ~np.isnan(test_data)\n",
        "  orig_mask_train = ~np.isnan(train_data)\n",
        "  for method  in imputation_methods:\n",
        "    start_imputation_time=time.time()\n",
        "    print(method)\n",
        "    imputed_train,imputed_test = method(np.copy(train_data),np.copy(test_data))\n",
        "    stop_imputation_time=time.time()\n",
        "    from statsmodels.tsa.stattools import adfuller\n",
        "\n",
        "    result = adfuller(imputed_train)\n",
        "    print(\"ADF Test p-değeri:\", result[1])\n",
        "    if np.isnan(imputed_train).sum()>0 or np.isnan(imputed_test).sum()>0:\n",
        "      print(\"there are missing values in data\")\n",
        "      break\n",
        "    best_params= find_best_arima(imputed_train)\n",
        "\n",
        "\n",
        "    # En iyi parametreleri kullanarak modeli eğit\n",
        "    best_model = ARIMA(imputed_train, order=best_params)\n",
        "    training_time_start=time.time()\n",
        "    best_model_fit=best_model.fit()\n",
        "\n",
        "    training_time_end=time.time()\n",
        "    training_time=training_time_end-training_time_start\n",
        "    test_start = time.time()\n",
        "    testPredict = best_model_fit.forecast(steps=len(imputed_test))\n",
        "    test_end = time.time()\n",
        "    trainPredict = best_model_fit.predict(start=0, end=len(imputed_train)-1)\n",
        "\n",
        "    filtered_trainY = imputed_train[orig_mask_train]\n",
        "    filtered_trainPredict = trainPredict[orig_mask_train]\n",
        "\n",
        "\n",
        "  # Maskeye göre filtreleme\n",
        "    filtered_testY = imputed_test[orig_mask]\n",
        "    filtered_testPredict = testPredict[orig_mask]\n",
        "\n",
        "\n",
        "\n",
        "\n",
        "\n",
        "\n",
        "    train_mse = mean_squared_error(filtered_trainY, filtered_trainPredict)\n",
        "    train_mae = mean_absolute_error(filtered_trainY, filtered_trainPredict)\n",
        "    train_rmse = np.sqrt(train_mse)\n",
        "    train_msmape = modified_smape(filtered_trainY, filtered_trainPredict)   # yüzde olarak ifade etmek için *100\n",
        "\n",
        "\n",
        "\n",
        "    mse = mean_squared_error(filtered_testY, filtered_testPredict)\n",
        "    mae = mean_absolute_error(filtered_testY, filtered_testPredict)\n",
        "    rmse = np.sqrt(mse)\n",
        "    msmape = modified_smape(filtered_testY, filtered_testPredict)   # yüzde olarak ifade etmek için *100\n",
        "\n",
        "\n",
        "\n",
        "\n",
        "\n",
        "\n",
        "    results.append([name,method,stop_imputation_time-start_imputation_time,training_time,train_mse,train_mae,train_rmse,train_msmape,test_end-test_start,mse,mae,rmse,msmape,best_params])\n",
        "\n",
        "pd.DataFrame(results).to_excel('SUBDATA_Eskisehir_Based_Imputation_ARIMA.xlsx')\n"
      ],
      "metadata": {
        "colab": {
          "base_uri": "https://localhost:8080/"
        },
        "id": "GyM0I9opLWkN",
        "outputId": "40df8a7b-7887-45fe-d5bf-359b58f560e3"
      },
      "execution_count": null,
      "outputs": [
        {
          "output_type": "stream",
          "name": "stderr",
          "text": [
            "<ipython-input-16-f445b91ca1c8>:36: FutureWarning: Downcasting behavior in `replace` is deprecated and will be removed in a future version. To retain the old behavior, explicitly call `result.infer_objects(copy=False)`. To opt-in to the future behavior, set `pd.set_option('future.no_silent_downcasting', True)`\n",
            "  dataset_df.replace(\"-\",np.nan,inplace=True)\n"
          ]
        },
        {
          "output_type": "stream",
          "name": "stdout",
          "text": [
            "<function zero_imputation at 0x7bb9c8e73420>\n",
            "ADF Test p-değeri: 6.372282467197532e-29\n",
            "ARIMA(0, 0, 0) - RMSE: 34.633876324543564\n",
            "ARIMA(0, 0, 1) - RMSE: 34.63380155443271\n",
            "ARIMA(0, 0, 2) - RMSE: 34.63375828312604\n",
            "ARIMA(0, 1, 0) - RMSE: 37.509252922491775\n",
            "ARIMA(0, 1, 1) - RMSE: 35.804937715868924\n",
            "ARIMA(0, 1, 2) - RMSE: 37.52259384007394\n",
            "ARIMA(1, 0, 0) - RMSE: 34.633755574483345\n",
            "ARIMA(1, 0, 1) - RMSE: 34.63373705165515\n",
            "ARIMA(1, 0, 2) - RMSE: 34.633673004014376\n",
            "ARIMA(1, 1, 0) - RMSE: 37.04740997704608\n",
            "ARIMA(1, 1, 1) - RMSE: 37.43898461615374\n",
            "ARIMA(1, 1, 2) - RMSE: 37.10793725783586\n",
            "ARIMA(2, 0, 0) - RMSE: 34.63374205600076\n",
            "ARIMA(2, 0, 1) - RMSE: 34.635847265952194\n"
          ]
        },
        {
          "output_type": "stream",
          "name": "stderr",
          "text": [
            "/usr/local/lib/python3.11/dist-packages/statsmodels/tsa/statespace/sarimax.py:966: UserWarning: Non-stationary starting autoregressive parameters found. Using zeros as starting parameters.\n",
            "  warn('Non-stationary starting autoregressive parameters'\n",
            "/usr/local/lib/python3.11/dist-packages/statsmodels/tsa/statespace/sarimax.py:978: UserWarning: Non-invertible starting MA parameters found. Using zeros as starting parameters.\n",
            "  warn('Non-invertible starting MA parameters found.'\n"
          ]
        },
        {
          "output_type": "stream",
          "name": "stdout",
          "text": [
            "ARIMA(2, 0, 2) - RMSE: 34.63630283190883\n",
            "ARIMA(2, 1, 0) - RMSE: 36.87675342282088\n",
            "ARIMA(2, 1, 1) - RMSE: 37.18056758568095\n"
          ]
        },
        {
          "output_type": "stream",
          "name": "stderr",
          "text": [
            "/usr/local/lib/python3.11/dist-packages/statsmodels/base/model.py:607: ConvergenceWarning: Maximum Likelihood optimization failed to converge. Check mle_retvals\n",
            "  warnings.warn(\"Maximum Likelihood optimization failed to \"\n"
          ]
        },
        {
          "output_type": "stream",
          "name": "stdout",
          "text": [
            "ARIMA(2, 1, 2) - RMSE: 35.860941718135244\n",
            "<function mean_imputation at 0x7bb9c8e73a60>\n",
            "ADF Test p-değeri: 0.0\n",
            "ARIMA(0, 0, 0) - RMSE: 32.69498375511057\n",
            "ARIMA(0, 0, 1) - RMSE: 32.694756446699046\n",
            "ARIMA(0, 0, 2) - RMSE: 32.694600619247446\n",
            "ARIMA(0, 1, 0) - RMSE: 37.372300553403576\n",
            "ARIMA(0, 1, 1) - RMSE: 35.432693414397065\n",
            "ARIMA(0, 1, 2) - RMSE: 37.47344486615243\n",
            "ARIMA(1, 0, 0) - RMSE: 32.69452876639519\n",
            "ARIMA(1, 0, 1) - RMSE: 32.694367956621626\n",
            "ARIMA(1, 0, 2) - RMSE: 32.69421183435247\n",
            "ARIMA(1, 1, 0) - RMSE: 36.85602214392828\n",
            "ARIMA(1, 1, 1) - RMSE: 36.695879608054604\n",
            "ARIMA(1, 1, 2) - RMSE: 35.31098111403042\n",
            "ARIMA(2, 0, 0) - RMSE: 32.6944170825252\n",
            "ARIMA(2, 0, 1) - RMSE: 32.68941585880711\n",
            "ARIMA(2, 0, 2) - RMSE: 32.68833025121631\n",
            "ARIMA(2, 1, 0) - RMSE: 36.66194467105498\n",
            "ARIMA(2, 1, 1) - RMSE: 35.634148250281314\n"
          ]
        },
        {
          "output_type": "stream",
          "name": "stderr",
          "text": [
            "/usr/local/lib/python3.11/dist-packages/statsmodels/base/model.py:607: ConvergenceWarning: Maximum Likelihood optimization failed to converge. Check mle_retvals\n",
            "  warnings.warn(\"Maximum Likelihood optimization failed to \"\n"
          ]
        },
        {
          "output_type": "stream",
          "name": "stdout",
          "text": [
            "ARIMA(2, 1, 2) - RMSE: 34.5152039734784\n"
          ]
        },
        {
          "output_type": "stream",
          "name": "stderr",
          "text": [
            "/usr/local/lib/python3.11/dist-packages/statsmodels/tsa/statespace/sarimax.py:966: UserWarning: Non-stationary starting autoregressive parameters found. Using zeros as starting parameters.\n",
            "  warn('Non-stationary starting autoregressive parameters'\n",
            "/usr/local/lib/python3.11/dist-packages/statsmodels/tsa/statespace/sarimax.py:978: UserWarning: Non-invertible starting MA parameters found. Using zeros as starting parameters.\n",
            "  warn('Non-invertible starting MA parameters found.'\n"
          ]
        },
        {
          "output_type": "stream",
          "name": "stdout",
          "text": [
            "<function median_imputation at 0x7bb9c8e98860>\n",
            "ADF Test p-değeri: 0.0\n",
            "ARIMA(0, 0, 0) - RMSE: 32.888099228539446\n",
            "ARIMA(0, 0, 1) - RMSE: 32.88791317057944\n",
            "ARIMA(0, 0, 2) - RMSE: 32.88778797376822\n",
            "ARIMA(0, 1, 0) - RMSE: 37.24190582970667\n",
            "ARIMA(0, 1, 1) - RMSE: 35.34798877368463\n",
            "ARIMA(0, 1, 2) - RMSE: 37.344549499454736\n",
            "ARIMA(1, 0, 0) - RMSE: 32.88773509880641\n",
            "ARIMA(1, 0, 1) - RMSE: 32.88761680970673\n",
            "ARIMA(1, 0, 2) - RMSE: 32.88751038226642\n",
            "ARIMA(1, 1, 0) - RMSE: 36.73527193039526\n",
            "ARIMA(1, 1, 1) - RMSE: 36.491638062881655\n",
            "ARIMA(1, 1, 2) - RMSE: 35.147261893183526\n",
            "ARIMA(2, 0, 0) - RMSE: 32.88765168895818\n",
            "ARIMA(2, 0, 1) - RMSE: 32.88436480905057\n",
            "ARIMA(2, 0, 2) - RMSE: 32.88591315675958\n",
            "ARIMA(2, 1, 0) - RMSE: 36.54539767829005\n",
            "ARIMA(2, 1, 1) - RMSE: 35.39639318022174\n"
          ]
        },
        {
          "output_type": "stream",
          "name": "stderr",
          "text": [
            "/usr/local/lib/python3.11/dist-packages/statsmodels/base/model.py:607: ConvergenceWarning: Maximum Likelihood optimization failed to converge. Check mle_retvals\n",
            "  warnings.warn(\"Maximum Likelihood optimization failed to \"\n"
          ]
        },
        {
          "output_type": "stream",
          "name": "stdout",
          "text": [
            "ARIMA(2, 1, 2) - RMSE: 34.223572318227625\n",
            "<function forward_fill_imputation at 0x7bb96e268c20>\n",
            "ADF Test p-değeri: 1.5592301565706143e-18\n",
            "ARIMA(0, 0, 0) - RMSE: 33.30935828081395\n",
            "ARIMA(0, 0, 1) - RMSE: 33.30856322632402\n",
            "ARIMA(0, 0, 2) - RMSE: 33.307944153203\n",
            "ARIMA(0, 1, 0) - RMSE: 37.629129601311206\n",
            "ARIMA(0, 1, 1) - RMSE: 36.24004803491371\n",
            "ARIMA(0, 1, 2) - RMSE: 35.78038753516602\n",
            "ARIMA(1, 0, 0) - RMSE: 33.30313855987274\n",
            "ARIMA(1, 0, 1) - RMSE: 33.28240496044371\n",
            "ARIMA(1, 0, 2) - RMSE: 33.23083780425579\n",
            "ARIMA(1, 1, 0) - RMSE: 37.17258501398734\n",
            "ARIMA(1, 1, 1) - RMSE: 36.05822273171703\n",
            "ARIMA(1, 1, 2) - RMSE: 36.16450049068714\n",
            "ARIMA(2, 0, 0) - RMSE: 33.299002915823095\n",
            "ARIMA(2, 0, 1) - RMSE: 33.18235453489597\n",
            "ARIMA(2, 0, 2) - RMSE: 33.174786425243795\n",
            "ARIMA(2, 1, 0) - RMSE: 36.99303772578886\n",
            "ARIMA(2, 1, 1) - RMSE: 36.158908431770946\n",
            "ARIMA(2, 1, 2) - RMSE: 36.14162687699576\n"
          ]
        },
        {
          "output_type": "stream",
          "name": "stderr",
          "text": [
            "/usr/local/lib/python3.11/dist-packages/statsmodels/tsa/statespace/sarimax.py:966: UserWarning: Non-stationary starting autoregressive parameters found. Using zeros as starting parameters.\n",
            "  warn('Non-stationary starting autoregressive parameters'\n",
            "/usr/local/lib/python3.11/dist-packages/statsmodels/tsa/statespace/sarimax.py:978: UserWarning: Non-invertible starting MA parameters found. Using zeros as starting parameters.\n",
            "  warn('Non-invertible starting MA parameters found.'\n"
          ]
        },
        {
          "output_type": "stream",
          "name": "stdout",
          "text": [
            "<function backward_fill_imputation at 0x7bb96e268a40>\n",
            "ADF Test p-değeri: 6.44681710929625e-25\n",
            "ARIMA(0, 0, 0) - RMSE: 46.74731911202602\n",
            "ARIMA(0, 0, 1) - RMSE: 46.74376980369622\n",
            "ARIMA(0, 0, 2) - RMSE: 46.74161142151772\n",
            "ARIMA(0, 1, 0) - RMSE: 37.53845198711983\n",
            "ARIMA(0, 1, 1) - RMSE: 37.04552991213006\n",
            "ARIMA(0, 1, 2) - RMSE: 36.63083988686031\n",
            "ARIMA(1, 0, 0) - RMSE: 46.62900201986423\n",
            "ARIMA(1, 0, 1) - RMSE: 46.536892597261705\n",
            "ARIMA(1, 0, 2) - RMSE: 46.41802662710899\n",
            "ARIMA(1, 1, 0) - RMSE: 37.241510228530636\n",
            "ARIMA(1, 1, 1) - RMSE: 36.220288350525834\n",
            "ARIMA(1, 1, 2) - RMSE: 36.23383393061564\n",
            "ARIMA(2, 0, 0) - RMSE: 46.58327722972786\n",
            "ARIMA(2, 0, 1) - RMSE: 46.29519407739289\n",
            "ARIMA(2, 0, 2) - RMSE: 46.306919796531126\n",
            "ARIMA(2, 1, 0) - RMSE: 37.09333212643855\n",
            "ARIMA(2, 1, 1) - RMSE: 36.23466011326401\n",
            "ARIMA(2, 1, 2) - RMSE: 36.226565085407735\n",
            "<function interpolation_imputation at 0x7bb96e268e00>\n",
            "ADF Test p-değeri: 4.166881298097415e-27\n",
            "ARIMA(0, 0, 0) - RMSE: 37.8437506615647\n",
            "ARIMA(0, 0, 1) - RMSE: 37.840819972184846\n",
            "ARIMA(0, 0, 2) - RMSE: 37.83936377707289\n",
            "ARIMA(0, 1, 0) - RMSE: 37.50493498313055\n",
            "ARIMA(0, 1, 1) - RMSE: 36.84538853592309\n",
            "ARIMA(0, 1, 2) - RMSE: 36.27115496189876\n",
            "ARIMA(1, 0, 0) - RMSE: 37.80598949028842\n",
            "ARIMA(1, 0, 1) - RMSE: 37.76632332831894\n",
            "ARIMA(1, 0, 2) - RMSE: 37.70853299924405\n",
            "ARIMA(1, 1, 0) - RMSE: 37.15644660820788\n",
            "ARIMA(1, 1, 1) - RMSE: 35.941733183946184\n",
            "ARIMA(1, 1, 2) - RMSE: 35.94483984466286\n",
            "ARIMA(2, 0, 0) - RMSE: 37.78927634074475\n",
            "ARIMA(2, 0, 1) - RMSE: 37.63467139460897\n",
            "ARIMA(2, 0, 2) - RMSE: 37.64873154427017\n",
            "ARIMA(2, 1, 0) - RMSE: 36.997117214725584\n",
            "ARIMA(2, 1, 1) - RMSE: 35.944799196521934\n",
            "ARIMA(2, 1, 2) - RMSE: 35.941607918774935\n",
            "<function kalman_filter_imputation at 0x7bb96e268ea0>\n",
            "ADF Test p-değeri: 1.5392733646936821e-24\n",
            "ARIMA(0, 0, 0) - RMSE: 29.500042307592402\n"
          ]
        },
        {
          "output_type": "stream",
          "name": "stderr",
          "text": [
            "/usr/local/lib/python3.11/dist-packages/statsmodels/tsa/statespace/sarimax.py:978: UserWarning: Non-invertible starting MA parameters found. Using zeros as starting parameters.\n",
            "  warn('Non-invertible starting MA parameters found.'\n"
          ]
        },
        {
          "output_type": "stream",
          "name": "stdout",
          "text": [
            "ARIMA(0, 0, 1) - RMSE: 29.498015138612637\n"
          ]
        },
        {
          "output_type": "stream",
          "name": "stderr",
          "text": [
            "/usr/local/lib/python3.11/dist-packages/statsmodels/tsa/statespace/sarimax.py:978: UserWarning: Non-invertible starting MA parameters found. Using zeros as starting parameters.\n",
            "  warn('Non-invertible starting MA parameters found.'\n"
          ]
        },
        {
          "output_type": "stream",
          "name": "stdout",
          "text": [
            "ARIMA(0, 0, 2) - RMSE: 29.49680822213738\n",
            "ARIMA(0, 1, 0) - RMSE: 30.838264164183805\n",
            "ARIMA(0, 1, 1) - RMSE: 31.069691962434742\n",
            "ARIMA(0, 1, 2) - RMSE: 31.10062264267125\n",
            "ARIMA(1, 0, 0) - RMSE: 29.37622457917642\n",
            "ARIMA(1, 0, 1) - RMSE: 29.420809221341926\n",
            "ARIMA(1, 0, 2) - RMSE: 29.428032777098874\n",
            "ARIMA(1, 1, 0) - RMSE: 31.166830774911322\n",
            "ARIMA(1, 1, 1) - RMSE: 31.089433817469146\n",
            "ARIMA(1, 1, 2) - RMSE: 30.846129356942907\n",
            "ARIMA(2, 0, 0) - RMSE: 29.434343123049576\n",
            "ARIMA(2, 0, 1) - RMSE: 29.426138955271277\n",
            "ARIMA(2, 0, 2) - RMSE: 29.251196944716536\n",
            "ARIMA(2, 1, 0) - RMSE: 30.969237463397796\n",
            "ARIMA(2, 1, 1) - RMSE: 29.966363807491636\n",
            "ARIMA(2, 1, 2) - RMSE: 30.055524227325265\n"
          ]
        },
        {
          "output_type": "stream",
          "name": "stderr",
          "text": [
            "/usr/local/lib/python3.11/dist-packages/statsmodels/tsa/statespace/sarimax.py:966: UserWarning: Non-stationary starting autoregressive parameters found. Using zeros as starting parameters.\n",
            "  warn('Non-stationary starting autoregressive parameters'\n",
            "/usr/local/lib/python3.11/dist-packages/statsmodels/tsa/statespace/sarimax.py:978: UserWarning: Non-invertible starting MA parameters found. Using zeros as starting parameters.\n",
            "  warn('Non-invertible starting MA parameters found.'\n"
          ]
        }
      ]
    },
    {
      "cell_type": "code",
      "source": [
        "plt.figure(figsize=(20,10))\n",
        "\n",
        "\n",
        "plt.plot(filtered_testY, color='black', label='Actual')\n",
        "plt.plot(filtered_testPredict, color='red', alpha=0.8 ,label='Predicted')\n",
        "plt.legend()\n",
        "plt.title(\"Metin Sonmez\")\n",
        "\n",
        "plt.show()"
      ],
      "metadata": {
        "colab": {
          "base_uri": "https://localhost:8080/",
          "height": 873
        },
        "id": "C5k7zxA-43Yu",
        "outputId": "fb161e5d-4bc9-4b54-c0a2-ff5def9bc6bc"
      },
      "execution_count": null,
      "outputs": [
        {
          "output_type": "display_data",
          "data": {
            "text/plain": [
              "<Figure size 2000x1000 with 1 Axes>"
            ],
            "image/png": "[encoded data removed]"
          },
          "metadata": {}
        }
      ]
    },
    {
      "cell_type": "code",
      "source": [],
      "metadata": {
        "colab": {
          "base_uri": "https://localhost:8080/"
        },
        "id": "yfqiTiAb_CU_",
        "outputId": "51cefa00-3c32-4151-9f0b-93a2c2eb52d4"
      },
      "execution_count": null,
      "outputs": [
        {
          "output_type": "stream",
          "name": "stdout",
          "text": [
            "[(0, 0, 0), (0, 0, 1), (0, 0, 2), (0, 1, 0), (0, 1, 1), (0, 1, 2), (1, 0, 0), (1, 0, 1), (1, 0, 2), (1, 1, 0), (1, 1, 1), (1, 1, 2), (2, 0, 0), (2, 0, 1), (2, 0, 2), (2, 1, 0), (2, 1, 1), (2, 1, 2)]\n"
          ]
        }
      ]
    },
    {
      "cell_type": "code",
      "source": [
        "import pandas as pd\n",
        "\n",
        "# Örnek bir DataFrame oluşturma\n",
        "df = pd.DataFrame({'A': [1, 2, 3], 'B': [4, 5, 6]})\n",
        "\n",
        "# Google Drive'a kaydetme\n",
        "df.to_csv('/content/drive/My Drive/dosya_adi.csv', index=False)"
      ],
      "metadata": {
        "id": "2j-CcpwV-Kcp"
      },
      "execution_count": null,
      "outputs": []
    }
  ],
  "metadata": {
    "colab": {
      "provenance": [],
      "machine_shape": "hm"
    },
    "kernelspec": {
      "display_name": "Python 3",
      "name": "python3"
    },
    "language_info": {
      "name": "python"
    }
  },
  "nbformat": 4,
  "nbformat_minor": 0
}